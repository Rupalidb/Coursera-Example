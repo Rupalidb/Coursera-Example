{
 "cells": [
  {
   "cell_type": "markdown",
   "metadata": {
    "collapsed": true
   },
   "source": [
    "# Capstone Project - The Battle of the Neighborhoods (Week 2)\n"
   ]
  },
  {
   "cell_type": "markdown",
   "metadata": {},
   "source": [
    "\n",
    "\n",
    "## Introduction: Business Problem"
   ]
  },
  {
   "cell_type": "markdown",
   "metadata": {},
   "source": [
    "In this project we will try to find an optimal location for a restaurant. Specifically, this report will be targeted to recommend restaurant to XYZ Company.\n",
    "\n",
    "Since there are lots of restaurants in Berlin we will try to detect **locations of restaurants and recommend**. We are also particularly interested in **areas with restaurants in vicinity**. We would also prefer locations **as close to city center as possible**, assuming that first two conditions are met.\n",
    "\n",
    "We will use our data science powers to generate a few most promissing neighborhoods based on this criteria. Advantages of each area will then be clearly expressed so that best possible final location can be chosen by XYZ Company."
   ]
  },
  {
   "cell_type": "markdown",
   "metadata": {},
   "source": [
    "## Data "
   ]
  },
  {
   "cell_type": "markdown",
   "metadata": {},
   "source": [
    "Based on definition of our problem, factors that will influence our decission are:\n",
    "* number of existing restaurants in the neighborhood (any type of restaurant)\n",
    "* number of and distance to Italian restaurants in the neighborhood, if any\n",
    "* distance of neighborhood from city center\n",
    "* centers of candidate areas will be generated algorithmically and approximate addresses of centers of those areas will be obtained using **Google Maps API reverse geocoding**\n"
   ]
  },
  {
   "cell_type": "code",
   "execution_count": 2,
   "metadata": {},
   "outputs": [
    {
     "name": "stdout",
     "output_type": "stream",
     "text": [
      "Coordinate of Alexanderplatz, Berlin, Germany: [52.5219184, 13.4132147]\n"
     ]
    }
   ],
   "source": [
    "import requests\n",
    "\n",
    "def get_coordinates(api_key, address, verbose=False):\n",
    "    try:\n",
    "        url = 'https://maps.googleapis.com/maps/api/geocode/json?key={}&address={}'.format(api_key, address)\n",
    "        response = requests.get(url).json()\n",
    "        if verbose:\n",
    "            print('Google Maps API JSON result =>', response)\n",
    "        results = response['results']\n",
    "        geographical_data = results[0]['geometry']['location'] # get geographical coordinates\n",
    "        lat = geographical_data['lat']\n",
    "        lon = geographical_data['lng']\n",
    "        return [lat, lon]\n",
    "    except:\n",
    "        return [None, None]\n",
    "    \n",
    "address = 'Alexanderplatz, Berlin, Germany'\n",
    "berlin_center = get_coordinates(google_api_key, address)\n",
    "print('Coordinate of {}: {}'.format(address, berlin_center))"
   ]
  },
  {
   "cell_type": "markdown",
   "metadata": {},
   "source": [
    "Now let's create a grid of area candidates, equaly spaced, centered around city center and within ~6km from Alexanderplatz. Our neighborhoods will be defined as circular areas with a radius of 300 meters, so our neighborhood centers will be 600 meters apart.\n",
    "\n",
    "To accurately calculate distances we need to create our grid of locations in Cartesian 2D coordinate system which allows us to calculate distances in meters (not in latitude/longitude degrees). Then we'll project those coordinates back to latitude/longitude degrees to be shown on Folium map. So let's create functions to convert between WGS84 spherical coordinate system (latitude/longitude degrees) and UTM Cartesian coordinate system (X/Y coordinates in  meters)."
   ]
  },
  {
   "cell_type": "code",
   "execution_count": 5,
   "metadata": {},
   "outputs": [
    {
     "name": "stdout",
     "output_type": "stream",
     "text": [
      "Coordinate transformation check\n",
      "-------------------------------\n",
      "Berlin center longitude=13.4132147, latitude=52.5219184\n",
      "Berlin center UTM X=392341.28017572395, Y=5820273.243274779\n",
      "Berlin center longitude=13.413214700000001, latitude=52.52191839999997\n"
     ]
    }
   ],
   "source": [
    "#!pip install shapely\n",
    "import shapely.geometry\n",
    "\n",
    "#!pip install pyproj\n",
    "import pyproj\n",
    "\n",
    "import math\n",
    "\n",
    "def lonlat_to_xy(lon, lat):\n",
    "    proj_latlon = pyproj.Proj(proj='latlong',datum='WGS84')\n",
    "    proj_xy = pyproj.Proj(proj=\"utm\", zone=33, datum='WGS84')\n",
    "    xy = pyproj.transform(proj_latlon, proj_xy, lon, lat)\n",
    "    return xy[0], xy[1]\n",
    "\n",
    "def xy_to_lonlat(x, y):\n",
    "    proj_latlon = pyproj.Proj(proj='latlong',datum='WGS84')\n",
    "    proj_xy = pyproj.Proj(proj=\"utm\", zone=33, datum='WGS84')\n",
    "    lonlat = pyproj.transform(proj_xy, proj_latlon, x, y)\n",
    "    return lonlat[0], lonlat[1]\n",
    "\n",
    "def calc_xy_distance(x1, y1, x2, y2):\n",
    "    dx = x2 - x1\n",
    "    dy = y2 - y1\n",
    "    return math.sqrt(dx*dx + dy*dy)\n",
    "\n",
    "print('Coordinate transformation check')\n",
    "print('-------------------------------')\n",
    "print('Berlin center longitude={}, latitude={}'.format(berlin_center[1], berlin_center[0]))\n",
    "x, y = lonlat_to_xy(berlin_center[1], berlin_center[0])\n",
    "print('Berlin center UTM X={}, Y={}'.format(x, y))\n",
    "lo, la = xy_to_lonlat(x, y)\n",
    "print('Berlin center longitude={}, latitude={}'.format(lo, la))"
   ]
  },
  {
   "cell_type": "markdown",
   "metadata": {},
   "source": [
    "Let's create a **hexagonal grid of cells**: we offset every other row, and adjust vertical row spacing so that **every cell center is equally distant from all it's neighbors**."
   ]
  },
  {
   "cell_type": "code",
   "execution_count": 6,
   "metadata": {},
   "outputs": [
    {
     "name": "stdout",
     "output_type": "stream",
     "text": [
      "364 candidate neighborhood centers generated.\n"
     ]
    }
   ],
   "source": [
    "berlin_center_x, berlin_center_y = lonlat_to_xy(berlin_center[1], berlin_center[0]) # City center in Cartesian coordinates\n",
    "\n",
    "k = math.sqrt(3) / 2 # Vertical offset for hexagonal grid cells\n",
    "x_min = berlin_center_x - 6000\n",
    "x_step = 600\n",
    "y_min = berlin_center_y - 6000 - (int(21/k)*k*600 - 12000)/2\n",
    "y_step = 600 * k \n",
    "\n",
    "latitudes = []\n",
    "longitudes = []\n",
    "distances_from_center = []\n",
    "xs = []\n",
    "ys = []\n",
    "for i in range(0, int(21/k)):\n",
    "    y = y_min + i * y_step\n",
    "    x_offset = 300 if i%2==0 else 0\n",
    "    for j in range(0, 21):\n",
    "        x = x_min + j * x_step + x_offset\n",
    "        distance_from_center = calc_xy_distance(berlin_center_x, berlin_center_y, x, y)\n",
    "        if (distance_from_center <= 6001):\n",
    "            lon, lat = xy_to_lonlat(x, y)\n",
    "            latitudes.append(lat)\n",
    "            longitudes.append(lon)\n",
    "            distances_from_center.append(distance_from_center)\n",
    "            xs.append(x)\n",
    "            ys.append(y)\n",
    "\n",
    "print(len(latitudes), 'candidate neighborhood centers generated.')"
   ]
  },
  {
   "cell_type": "markdown",
   "metadata": {},
   "source": [
    "OK, we now have the coordinates of centers of neighborhoods/areas to be evaluated, equally spaced (distance from every point to it's neighbors is exactly the same) and within ~6km from Alexanderplatz. \n",
    "\n",
    "Let's now use Google Maps API to get approximate addresses of those locations."
   ]
  },
  {
   "cell_type": "code",
   "execution_count": 12,
   "metadata": {
    "scrolled": true
   },
   "outputs": [
    {
     "name": "stdout",
     "output_type": "stream",
     "text": [
      "Reverse geocoding check\n",
      "-----------------------\n",
      "Address of [52.5219184, 13.4132147] is: Alexanderpl. 5, 10178 Berlin, Germany\n"
     ]
    }
   ],
   "source": [
    "\n",
    "def get_address(api_key, latitude, longitude, verbose=False):\n",
    "    try:\n",
    "        url = 'https://maps.googleapis.com/maps/api/geocode/json?key={}&latlng={},{}'.format(api_key, latitude, longitude)\n",
    "        response = requests.get(url).json()\n",
    "        if verbose:\n",
    "            print('Google Maps API JSON result =>', response)\n",
    "        results = response['results']\n",
    "        address = results[0]['formatted_address']\n",
    "        return address\n",
    "    except:\n",
    "        return None\n",
    "\n",
    "addr = get_address(google_api_key, berlin_center[0], berlin_center[1])\n",
    "print('Reverse geocoding check')\n",
    "print('-----------------------')\n",
    "print('Address of [{}, {}] is: {}'.format(berlin_center[0], berlin_center[1], addr))"
   ]
  },
  {
   "cell_type": "code",
   "execution_count": 13,
   "metadata": {},
   "outputs": [
    {
     "name": "stdout",
     "output_type": "stream",
     "text": [
      "Obtaining location addresses:  . . . . . . . . . . . . . . . . . . . . . . . . . . . . . . . . . . . . . . . . . . . . . . . . . . . . . . . . . . . . . . . . . . . . . . . . . . . . . . . . . . . . . . . . . . . . . . . . . . . . . . . . . . . . . . . . . . . . . . . . . . . . . . . . . . . . . . . . . . . . . . . . . . . . . . . . . . . . . . . . . . . . . . . . . . . . . . . . . . . . . . . . . . . . . . . . . . . . . . . . . . . . . . . . . . . . . . . . . . . . . . . . . . . . . . . . . . . . . . . . . . . . . . . . . . . . . . . . . . . . . . . . . . . . . . . . . . . . . . . . . . . . . . . . . . . . . . . . . . . . . . . . . . . . . . . . . . . . . . . . . . . . . . . . . . . . . . . . . . . . . . . . . . . . . . . . . . . . . . . . . . . . done.\n"
     ]
    }
   ],
   "source": [
    "print('Obtaining location addresses: ', end='')\n",
    "addresses = []\n",
    "for lat, lon in zip(latitudes, longitudes):\n",
    "    address = get_address(google_api_key, lat, lon)\n",
    "    if address is None:\n",
    "        address = 'NO ADDRESS'\n",
    "    address = address.replace(', Germany', '') # We don't need country part of address\n",
    "    addresses.append(address)\n",
    "    print(' .', end='')\n",
    "print(' done.')"
   ]
  },
  {
   "cell_type": "code",
   "execution_count": 14,
   "metadata": {},
   "outputs": [
    {
     "data": {
      "text/plain": [
       "['Frankfurter Allee 147-149, 10365 Berlin',\n",
       " 'Magdalenenstraße 12, 10365 Berlin',\n",
       " 'Siegfriedstraße 207, 10365 Berlin',\n",
       " 'Englische Str. 3, 10587 Berlin',\n",
       " 'Händelallee 51, 10557 Berlin',\n",
       " 'Spreeweg, 10557 Berlin',\n",
       " 'John-Foster-Dulles-Allee 10, 10557 Berlin',\n",
       " 'B96, 10557 Berlin',\n",
       " 'Pariser Platz 6A, 10117 Berlin',\n",
       " 'Unter den Linden 38, 10117 Berlin',\n",
       " 'Unter den Linden 5, 10117 Berlin',\n",
       " 'Spreeufer 6, 10178 Berlin',\n",
       " 'Parochialstraße, 10179 Berlin',\n",
       " 'Neue Blumenstraße 1, 10179 Berlin',\n",
       " 'Blumenstraße 41, 10243 Berlin',\n",
       " 'B5 85, 10243 Berlin',\n",
       " 'Weidenweg 27, 10249 Berlin',\n",
       " 'Rigaer Str. 96, 10247 Berlin',\n",
       " 'Bänschstraße 58, 10247 Berlin',\n",
       " 'Parkaue 30, 10367 Berlin']"
      ]
     },
     "execution_count": 14,
     "metadata": {},
     "output_type": "execute_result"
    }
   ],
   "source": [
    "addresses[150:170]"
   ]
  },
  {
   "cell_type": "markdown",
   "metadata": {},
   "source": [
    "Looking good. Let's now place all this into a Pandas dataframe."
   ]
  },
  {
   "cell_type": "code",
   "execution_count": 15,
   "metadata": {},
   "outputs": [
    {
     "data": {
      "text/html": [
       "<div>\n",
       "<style scoped>\n",
       "    .dataframe tbody tr th:only-of-type {\n",
       "        vertical-align: middle;\n",
       "    }\n",
       "\n",
       "    .dataframe tbody tr th {\n",
       "        vertical-align: top;\n",
       "    }\n",
       "\n",
       "    .dataframe thead th {\n",
       "        text-align: right;\n",
       "    }\n",
       "</style>\n",
       "<table border=\"1\" class=\"dataframe\">\n",
       "  <thead>\n",
       "    <tr style=\"text-align: right;\">\n",
       "      <th></th>\n",
       "      <th>Address</th>\n",
       "      <th>Distance from center</th>\n",
       "      <th>Latitude</th>\n",
       "      <th>Longitude</th>\n",
       "      <th>X</th>\n",
       "      <th>Y</th>\n",
       "    </tr>\n",
       "  </thead>\n",
       "  <tbody>\n",
       "    <tr>\n",
       "      <th>0</th>\n",
       "      <td>Bundesautobahn 100 &amp; Tempelhofer Damm, 12099 B...</td>\n",
       "      <td>5992.495307</td>\n",
       "      <td>52.470194</td>\n",
       "      <td>13.388575</td>\n",
       "      <td>390541.280176</td>\n",
       "      <td>5.814557e+06</td>\n",
       "    </tr>\n",
       "    <tr>\n",
       "      <th>1</th>\n",
       "      <td>09R/27L, 12101 Berlin</td>\n",
       "      <td>5840.376700</td>\n",
       "      <td>52.470314</td>\n",
       "      <td>13.397404</td>\n",
       "      <td>391141.280176</td>\n",
       "      <td>5.814557e+06</td>\n",
       "    </tr>\n",
       "    <tr>\n",
       "      <th>2</th>\n",
       "      <td>09R/27L, 12049 Berlin</td>\n",
       "      <td>5747.173218</td>\n",
       "      <td>52.470434</td>\n",
       "      <td>13.406234</td>\n",
       "      <td>391741.280176</td>\n",
       "      <td>5.814557e+06</td>\n",
       "    </tr>\n",
       "    <tr>\n",
       "      <th>3</th>\n",
       "      <td>09R/27L, 12049 Berlin</td>\n",
       "      <td>5715.767665</td>\n",
       "      <td>52.470552</td>\n",
       "      <td>13.415063</td>\n",
       "      <td>392341.280176</td>\n",
       "      <td>5.814557e+06</td>\n",
       "    </tr>\n",
       "    <tr>\n",
       "      <th>4</th>\n",
       "      <td>Warthestraße 23, 12051 Berlin</td>\n",
       "      <td>5747.173218</td>\n",
       "      <td>52.470670</td>\n",
       "      <td>13.423893</td>\n",
       "      <td>392941.280176</td>\n",
       "      <td>5.814557e+06</td>\n",
       "    </tr>\n",
       "    <tr>\n",
       "      <th>5</th>\n",
       "      <td>Schierker Str. 19-20, 12051 Berlin</td>\n",
       "      <td>5840.376700</td>\n",
       "      <td>52.470788</td>\n",
       "      <td>13.432722</td>\n",
       "      <td>393541.280176</td>\n",
       "      <td>5.814557e+06</td>\n",
       "    </tr>\n",
       "    <tr>\n",
       "      <th>6</th>\n",
       "      <td>Karl-Marx-Straße 213, 12055 Berlin</td>\n",
       "      <td>5992.495307</td>\n",
       "      <td>52.470904</td>\n",
       "      <td>13.441552</td>\n",
       "      <td>394141.280176</td>\n",
       "      <td>5.814557e+06</td>\n",
       "    </tr>\n",
       "    <tr>\n",
       "      <th>7</th>\n",
       "      <td>Hessenring 34, 12101 Berlin</td>\n",
       "      <td>5855.766389</td>\n",
       "      <td>52.474683</td>\n",
       "      <td>13.375159</td>\n",
       "      <td>389641.280176</td>\n",
       "      <td>5.815077e+06</td>\n",
       "    </tr>\n",
       "    <tr>\n",
       "      <th>8</th>\n",
       "      <td>Thuyring 6, 12101 Berlin</td>\n",
       "      <td>5604.462508</td>\n",
       "      <td>52.474804</td>\n",
       "      <td>13.383989</td>\n",
       "      <td>390241.280176</td>\n",
       "      <td>5.815077e+06</td>\n",
       "    </tr>\n",
       "    <tr>\n",
       "      <th>9</th>\n",
       "      <td>09L/27R, 12101 Berlin</td>\n",
       "      <td>5408.326913</td>\n",
       "      <td>52.474924</td>\n",
       "      <td>13.392820</td>\n",
       "      <td>390841.280176</td>\n",
       "      <td>5.815077e+06</td>\n",
       "    </tr>\n",
       "  </tbody>\n",
       "</table>\n",
       "</div>"
      ],
      "text/plain": [
       "                                             Address  Distance from center  \\\n",
       "0  Bundesautobahn 100 & Tempelhofer Damm, 12099 B...           5992.495307   \n",
       "1                              09R/27L, 12101 Berlin           5840.376700   \n",
       "2                              09R/27L, 12049 Berlin           5747.173218   \n",
       "3                              09R/27L, 12049 Berlin           5715.767665   \n",
       "4                      Warthestraße 23, 12051 Berlin           5747.173218   \n",
       "5                 Schierker Str. 19-20, 12051 Berlin           5840.376700   \n",
       "6                 Karl-Marx-Straße 213, 12055 Berlin           5992.495307   \n",
       "7                        Hessenring 34, 12101 Berlin           5855.766389   \n",
       "8                           Thuyring 6, 12101 Berlin           5604.462508   \n",
       "9                              09L/27R, 12101 Berlin           5408.326913   \n",
       "\n",
       "    Latitude  Longitude              X             Y  \n",
       "0  52.470194  13.388575  390541.280176  5.814557e+06  \n",
       "1  52.470314  13.397404  391141.280176  5.814557e+06  \n",
       "2  52.470434  13.406234  391741.280176  5.814557e+06  \n",
       "3  52.470552  13.415063  392341.280176  5.814557e+06  \n",
       "4  52.470670  13.423893  392941.280176  5.814557e+06  \n",
       "5  52.470788  13.432722  393541.280176  5.814557e+06  \n",
       "6  52.470904  13.441552  394141.280176  5.814557e+06  \n",
       "7  52.474683  13.375159  389641.280176  5.815077e+06  \n",
       "8  52.474804  13.383989  390241.280176  5.815077e+06  \n",
       "9  52.474924  13.392820  390841.280176  5.815077e+06  "
      ]
     },
     "execution_count": 15,
     "metadata": {},
     "output_type": "execute_result"
    }
   ],
   "source": [
    "import pandas as pd\n",
    "\n",
    "df_locations = pd.DataFrame({'Address': addresses,\n",
    "                             'Latitude': latitudes,\n",
    "                             'Longitude': longitudes,\n",
    "                             'X': xs,\n",
    "                             'Y': ys,\n",
    "                             'Distance from center': distances_from_center})\n",
    "\n",
    "df_locations.head(10)"
   ]
  },
  {
   "cell_type": "markdown",
   "metadata": {},
   "source": [
    "...and let's now save/persist this data into local file."
   ]
  },
  {
   "cell_type": "code",
   "execution_count": 16,
   "metadata": {
    "collapsed": true
   },
   "outputs": [],
   "source": [
    "df_locations.to_pickle('./locations.pkl')    "
   ]
  },
  {
   "cell_type": "markdown",
   "metadata": {},
   "source": [
    "### Foursquare\n",
    "Now that we have our location candidates, let's use Foursquare API to get info on restaurants in each neighborhood.\n",
    "\n",
    "We're interested in venues in 'food' category, but only those that are proper restaurants - coffe shops, pizza places, bakeries etc. are not direct competitors so we don't care about those. So we will include in out list only venues that have 'restaurant' in category name, and we'll make sure to detect and include all the subcategories of specific 'Italian restaurant' category, as we need info on restaurants in the neighborhood."
   ]
  },
  {
   "cell_type": "code",
   "execution_count": 18,
   "metadata": {
    "collapsed": true
   },
   "outputs": [],
   "source": [
    "# Category IDs corresponding to Italian restaurants were taken from Foursquare web site (https://developer.foursquare.com/docs/resources/categories):\n",
    "\n",
    "food_category = '4d4b7105d754a06374d81259' # 'Root' category for all food-related venues\n",
    "\n",
    "italian_restaurant_categories = ['4bf58dd8d48988d110941735','55a5a1ebe4b013909087cbb6','55a5a1ebe4b013909087cb7c',\n",
    "                                 '55a5a1ebe4b013909087cba7','55a5a1ebe4b013909087cba1','55a5a1ebe4b013909087cba4',\n",
    "                                 '55a5a1ebe4b013909087cb95','55a5a1ebe4b013909087cb89','55a5a1ebe4b013909087cb9b',\n",
    "                                 '55a5a1ebe4b013909087cb98','55a5a1ebe4b013909087cbbf','55a5a1ebe4b013909087cb79',\n",
    "                                 '55a5a1ebe4b013909087cbb0','55a5a1ebe4b013909087cbb3','55a5a1ebe4b013909087cb74',\n",
    "                                 '55a5a1ebe4b013909087cbaa','55a5a1ebe4b013909087cb83','55a5a1ebe4b013909087cb8c',\n",
    "                                 '55a5a1ebe4b013909087cb92','55a5a1ebe4b013909087cb8f','55a5a1ebe4b013909087cb86',\n",
    "                                 '55a5a1ebe4b013909087cbb9','55a5a1ebe4b013909087cb7f','55a5a1ebe4b013909087cbbc',\n",
    "                                 '55a5a1ebe4b013909087cb9e','55a5a1ebe4b013909087cbc2','55a5a1ebe4b013909087cbad']\n",
    "\n",
    "def is_restaurant(categories, specific_filter=None):\n",
    "    restaurant_words = ['restaurant', 'diner', 'taverna', 'steakhouse']\n",
    "    restaurant = False\n",
    "    specific = False\n",
    "    for c in categories:\n",
    "        category_name = c[0].lower()\n",
    "        category_id = c[1]\n",
    "        for r in restaurant_words:\n",
    "            if r in category_name:\n",
    "                restaurant = True\n",
    "        if 'fast food' in category_name:\n",
    "            restaurant = False\n",
    "        if not(specific_filter is None) and (category_id in specific_filter):\n",
    "            specific = True\n",
    "            restaurant = True\n",
    "    return restaurant, specific\n",
    "\n",
    "def get_categories(categories):\n",
    "    return [(cat['name'], cat['id']) for cat in categories]\n",
    "\n",
    "def format_address(location):\n",
    "    address = ', '.join(location['formattedAddress'])\n",
    "    address = address.replace(', Deutschland', '')\n",
    "    address = address.replace(', Germany', '')\n",
    "    return address\n",
    "\n",
    "def get_venues_near_location(lat, lon, category, client_id, client_secret, radius=500, limit=100):\n",
    "    version = '20180724'\n",
    "    url = 'https://api.foursquare.com/v2/venues/explore?client_id={}&client_secret={}&v={}&ll={},{}&categoryId={}&radius={}&limit={}'.format(\n",
    "        client_id, client_secret, version, lat, lon, category, radius, limit)\n",
    "    try:\n",
    "        results = requests.get(url).json()['response']['groups'][0]['items']\n",
    "        venues = [(item['venue']['id'],\n",
    "                   item['venue']['name'],\n",
    "                   get_categories(item['venue']['categories']),\n",
    "                   (item['venue']['location']['lat'], item['venue']['location']['lng']),\n",
    "                   format_address(item['venue']['location']),\n",
    "                   item['venue']['location']['distance']) for item in results]        \n",
    "    except:\n",
    "        venues = []\n",
    "    return venues"
   ]
  },
  {
   "cell_type": "code",
   "execution_count": 19,
   "metadata": {},
   "outputs": [
    {
     "name": "stdout",
     "output_type": "stream",
     "text": [
      "Obtaining venues around candidate locations: . . . . . . . . . . . . . . . . . . . . . . . . . . . . . . . . . . . . . . . . . . . . . . . . . . . . . . . . . . . . . . . . . . . . . . . . . . . . . . . . . . . . . . . . . . . . . . . . . . . . . . . . . . . . . . . . . . . . . . . . . . . . . . . . . . . . . . . . . . . . . . . . . . . . . . . . . . . . . . . . . . . . . . . . . . . . . . . . . . . . . . . . . . . . . . . . . . . . . . . . . . . . . . . . . . . . . . . . . . . . . . . . . . . . . . . . . . . . . . . . . . . . . . . . . . . . . . . . . . . . . . . . . . . . . . . . . . . . . . . . . . . . . . . . . . . . . . . . . . . . . . . . . . . . . . . . . . . . . . . . . . . . . . . . . . . . . . . . . . . . . . . . . . . . . . . . . . . . . . . . . . . . done.\n"
     ]
    }
   ],
   "source": [
    "# Let's now go over our neighborhood locations and get nearby restaurants; we'll also maintain a dictionary of all found restaurants and all found italian restaurants\n",
    "\n",
    "import pickle\n",
    "\n",
    "def get_restaurants(lats, lons):\n",
    "    restaurants = {}\n",
    "    italian_restaurants = {}\n",
    "    location_restaurants = []\n",
    "\n",
    "    print('Obtaining venues around candidate locations:', end='')\n",
    "    for lat, lon in zip(lats, lons):\n",
    "        # Using radius=350 to meke sure we have overlaps/full coverage so we don't miss any restaurant (we're using dictionaries to remove any duplicates resulting from area overlaps)\n",
    "        venues = get_venues_near_location(lat, lon, food_category, foursquare_client_id, foursquare_client_secret, radius=350, limit=100)\n",
    "        area_restaurants = []\n",
    "        for venue in venues:\n",
    "            venue_id = venue[0]\n",
    "            venue_name = venue[1]\n",
    "            venue_categories = venue[2]\n",
    "            venue_latlon = venue[3]\n",
    "            venue_address = venue[4]\n",
    "            venue_distance = venue[5]\n",
    "            is_res, is_italian = is_restaurant(venue_categories, specific_filter=italian_restaurant_categories)\n",
    "            if is_res:\n",
    "                x, y = lonlat_to_xy(venue_latlon[1], venue_latlon[0])\n",
    "                restaurant = (venue_id, venue_name, venue_latlon[0], venue_latlon[1], venue_address, venue_distance, is_italian, x, y)\n",
    "                if venue_distance<=300:\n",
    "                    area_restaurants.append(restaurant)\n",
    "                restaurants[venue_id] = restaurant\n",
    "                if is_italian:\n",
    "                    italian_restaurants[venue_id] = restaurant\n",
    "        location_restaurants.append(area_restaurants)\n",
    "        print(' .', end='')\n",
    "    print(' done.')\n",
    "    return restaurants, italian_restaurants, location_restaurants\n",
    "\n",
    "# Try to load from local file system in case we did this before\n",
    "restaurants = {}\n",
    "italian_restaurants = {}\n",
    "location_restaurants = []\n",
    "loaded = False\n",
    "try:\n",
    "    with open('restaurants_350.pkl', 'rb') as f:\n",
    "        restaurants = pickle.load(f)\n",
    "    with open('italian_restaurants_350.pkl', 'rb') as f:\n",
    "        italian_restaurants = pickle.load(f)\n",
    "    with open('location_restaurants_350.pkl', 'rb') as f:\n",
    "        location_restaurants = pickle.load(f)\n",
    "    print('Restaurant data loaded.')\n",
    "    loaded = True\n",
    "except:\n",
    "    pass\n",
    "\n",
    "# If load failed use the Foursquare API to get the data\n",
    "if not loaded:\n",
    "    restaurants, italian_restaurants, location_restaurants = get_restaurants(latitudes, longitudes)\n",
    "    \n",
    "    # Let's persists this in local file system\n",
    "    with open('restaurants_350.pkl', 'wb') as f:\n",
    "        pickle.dump(restaurants, f)\n",
    "    with open('italian_restaurants_350.pkl', 'wb') as f:\n",
    "        pickle.dump(italian_restaurants, f)\n",
    "    with open('location_restaurants_350.pkl', 'wb') as f:\n",
    "        pickle.dump(location_restaurants, f)\n",
    "        "
   ]
  },
  {
   "cell_type": "code",
   "execution_count": 20,
   "metadata": {},
   "outputs": [
    {
     "name": "stdout",
     "output_type": "stream",
     "text": [
      "Total number of restaurants: 2031\n",
      "Total number of Italian restaurants: 312\n",
      "Percentage of Italian restaurants: 15.36%\n",
      "Average number of restaurants in neighborhood: 4.91208791209\n"
     ]
    }
   ],
   "source": [
    "import numpy as np\n",
    "\n",
    "print('Total number of restaurants:', len(restaurants))\n",
    "print('Total number of Italian restaurants:', len(italian_restaurants))\n",
    "print('Percentage of Italian restaurants: {:.2f}%'.format(len(italian_restaurants) / len(restaurants) * 100))\n",
    "print('Average number of restaurants in neighborhood:', np.array([len(r) for r in location_restaurants]).mean())"
   ]
  },
  {
   "cell_type": "code",
   "execution_count": 21,
   "metadata": {},
   "outputs": [
    {
     "name": "stdout",
     "output_type": "stream",
     "text": [
      "List of all restaurants\n",
      "-----------------------\n",
      "('5546072a498e349bf0e737e1', 'Shaam Restaurant', 52.474363806181806, 13.440120220184326, 'Karl-Marx-Straße 177, 10247 Berlin', 249, False, 394052.35775333317, 5814944.355430137)\n",
      "('4fce25c6e4b0f39fffdd0447', 'Wursterei', 52.5058278495275, 13.333072532529153, 'Hardenbergplatz 27d, 10623 Berlin', 133, False, 386862.9315917266, 5818606.191572046)\n",
      "('57ffdde438fa512462a6b490', 'Einstein Kaffeehaus & Restaurant', 52.516953, 13.385849, 'Unter der Linden 42, 10117 Berlin', 69, False, 390472.37417370133, 5819762.151308152)\n",
      "('514316eae4b080a105a5b4f5', 'Allee Bistro', 52.534855836549994, 13.497241138618675, 'Berlin', 279, False, 398071.8391866421, 5821590.182515125)\n",
      "('4c3a05951a38ef3b86079321', 'Louis', 52.474274260971214, 13.445097179795765, 'Richardplatz 5, 12055 Berlin', 158, False, 394390.1589999274, 5814927.10762019)\n",
      "('4b62bc3df964a520b4502ae3', 'Kaplan Döner', 52.556723244788124, 13.373655087007442, 'Osloer Str. 84, Berlin', 248, False, 389744.70399348286, 5824204.024383282)\n",
      "('507eb672e4b032f203a43bee', 'Vino e Cucina', 52.490001421043665, 13.38526010531851, 'Kreuzbergstr. 77, 10965 Berlin', 218, True, 390365.3747334052, 5816765.463894998)\n",
      "('4bbc5dde51b89c744f4f872a', 'Thai Tasty', 52.523448363244846, 13.379427543998961, 'Luisenstr. 14, 10117 Berlin', 318, False, 390052.8981128248, 5820494.335557022)\n",
      "('51f02bc1498ed5e8bd0f1672', 'Lecker Song', 52.544179118842244, 13.420204777148115, 'Schliemannstr. 19, 10437 Berlin', 150, False, 392869.7024230916, 5822738.722407024)\n",
      "('4c655634e0c4be9a73d18758', 'Marjan Grill', 52.52019090974542, 13.346992507015973, 'Stadtbahnbogen 411 (Bartningallee), 10557 Berlin', 91, False, 387844.2151326508, 5820181.937990252)\n",
      "...\n",
      "Total: 2031\n"
     ]
    }
   ],
   "source": [
    "print('List of all restaurants')\n",
    "print('-----------------------')\n",
    "for r in list(restaurants.values())[:10]:\n",
    "    print(r)\n",
    "print('...')\n",
    "print('Total:', len(restaurants))"
   ]
  },
  {
   "cell_type": "code",
   "execution_count": 22,
   "metadata": {},
   "outputs": [
    {
     "name": "stdout",
     "output_type": "stream",
     "text": [
      "List of Italian restaurants\n",
      "---------------------------\n",
      "('4b4f6063f964a520e10327e3', 'Salumeria Culinario', 52.526394678482745, 13.393537136029817, 'Tucholskystr. 34 (Auguststr.), 10117 Berlin', 123, True, 391017.3861974631, 5820800.631260842)\n",
      "('56d5838e498eda2c7124a8f0', 'Pascarella', 52.53224028238963, 13.380982905663293, 'Berlin', 168, True, 390180.3491140888, 5821469.816676741)\n",
      "('4f1ff655e4b0ec749c54b273', 'Agata Torrisi', 52.53651019364004, 13.377780874234496, 'Wöhlertstr. 5, 10115 Berlin', 121, True, 389973.84217276424, 5821949.599236318)\n",
      "('551ecd4e498e52f76b5f4310', \"Antonello's Cevicheria & Street Food\", 52.49042751718539, 13.390365472982154, 'Nostitzstr. 22, Berlin', 240, True, 390713.04239021626, 5816805.116119504)\n",
      "('4bf2dd126991c9b6629829e9', 'Al Contadino Sotto Le Stelle', 52.52780835209213, 13.401225263437848, 'Auguststr. 36 (Joachimstr.), 10115 Berlin', 250, True, 391542.39733332, 5820946.282045525)\n",
      "('4afc5179f964a5207e2122e3', 'Boccondivino', 52.522249160938536, 13.384316985590111, 'Albrechtstr. 18, 10117 Berlin', 161, True, 390381.61197342863, 5820353.522465905)\n",
      "('52c863ca498e73da17e59cb9', 'Caligari', 52.475843, 13.423658, 'Kienitzerstr. 110, Berlin', 307, True, 392937.9001831622, 5815133.146853393)\n",
      "('507eb672e4b032f203a43bee', 'Vino e Cucina', 52.490001421043665, 13.38526010531851, 'Kreuzbergstr. 77, 10965 Berlin', 218, True, 390365.3747334052, 5816765.463894998)\n",
      "('4b3a4c4df964a520056425e3', 'Fratelli La Bionda', 52.48876483018588, 13.397204875946045, 'Bergmannstr. 31 (Heimstr.), 10961 Berlin', 41, True, 391173.2712361226, 5816609.86209068)\n",
      "('5454eda7498ee281f036eddf', 'Pastificio Tosatti', 52.5435, 13.419621, 'Schliemannstr. 14a, 10437 Berlin', 236, True, 392828.4632061965, 5822664.056144068)\n",
      "...\n",
      "Total: 312\n"
     ]
    }
   ],
   "source": [
    "print('List of Italian restaurants')\n",
    "print('---------------------------')\n",
    "for r in list(italian_restaurants.values())[:10]:\n",
    "    print(r)\n",
    "print('...')\n",
    "print('Total:', len(italian_restaurants))"
   ]
  },
  {
   "cell_type": "code",
   "execution_count": 23,
   "metadata": {},
   "outputs": [
    {
     "name": "stdout",
     "output_type": "stream",
     "text": [
      "Restaurants around location\n",
      "---------------------------\n",
      "Restaurants around location 101: Mabuhay, Scandic Restaurant\n",
      "Restaurants around location 102: Solar, THE POST Brasserie & Bar, Ristorante Marinelli, Diomira, Mexican, Cucina Italiana, Restaurant Hof zwei, Morélos Steakhaus & Cocktailbar\n",
      "Restaurants around location 103: Paracas, Nobelhart & Schmutzig, Mama Cook, Trattoria da Vinci, Steakhaus Asador, Tumi, Delhi 6, Deutsche Küche By Kaese-koenig.de\n",
      "Restaurants around location 104: \n",
      "Restaurants around location 105: Pacifico, food bag 2, TAT Imbiss\n",
      "Restaurants around location 106: Santa Maria, Die Henne, Zur kleinen Markthalle, Parantez, Habibi, Maroush, Sol y Sombra, Chez Michel\n",
      "Restaurants around location 107: La Piadina, 3 Schwestern, Trattoria Marechiaro, Goldener Hahn, Weltrestaurant Markthalle, Long March Canteen, Olive\n",
      "Restaurants around location 108: Salumeria Lamuri, Restaurant Richard\n",
      "Restaurants around location 109: Scheers Schnitzel, Seoulkitchen Korean BBQ & Sushi, Michelberger Restaurant, Rio Grande, Nano Falafel, Bistro Istanbul, Asia Bistro\n",
      "Restaurants around location 110: Dînette, Areti, Kotai Asia, Opera Restaurant and Bar, Asia Food Store \"We lunch\", Ba Qué, La Cesta, Sedici Cucina e Delicatezze\n"
     ]
    }
   ],
   "source": [
    "print('Restaurants around location')\n",
    "print('---------------------------')\n",
    "for i in range(100, 110):\n",
    "    rs = location_restaurants[i][:8]\n",
    "    names = ', '.join([r[1] for r in rs])\n",
    "    print('Restaurants around location {}: {}'.format(i+1, names))"
   ]
  },
  {
   "cell_type": "markdown",
   "metadata": {},
   "source": [
    "## Methodology <a name=\"methodology\"></a>"
   ]
  },
  {
   "cell_type": "markdown",
   "metadata": {},
   "source": [
    "In this project we will direct our efforts on detecting areas of Berlin that have low restaurant density, particularly those with low number of Italian restaurants. We will limit our analysis to area ~6km around city center.\n",
    "\n",
    "In first step we have collected the required **data: location and type (category) of every restaurant within 6km from Berlin center** (Alexanderplatz). We have also **identified Italian restaurants** (according to Foursquare categorization).\n",
    "\n",
    "Second step in our analysis will be calculation and exploration of '**restaurant density**' across different areas of Berlin - we will use **heatmaps** to identify a few promising areas close to center with low number of restaurants in general (*and* no Italian restaurants in vicinity) and focus our attention on those areas.\n",
    "\n",
    "In third and final step we will focus on most promising areas and within those create **clusters of locations that meet some basic requirements** established in discussion with stakeholders: we will take into consideration locations with **no more than two restaurants in radius of 250 meters**, and we want locations **without Italian restaurants in radius of 400 meters**. We will present map of all such locations but also create clusters (using **k-means clustering**) of those locations to identify general zones / neighborhoods / addresses which should be a starting point for final 'street level' exploration and search for optimal venue location by stakeholders."
   ]
  },
  {
   "cell_type": "markdown",
   "metadata": {},
   "source": [
    "## Analysis <a name=\"analysis\"></a>"
   ]
  },
  {
   "cell_type": "markdown",
   "metadata": {},
   "source": [
    "Let's perform some basic explanatory data analysis and derive some additional info from our raw data. First let's count the **number of restaurants in every area candidate**:"
   ]
  },
  {
   "cell_type": "code",
   "execution_count": 31,
   "metadata": {},
   "outputs": [
    {
     "name": "stdout",
     "output_type": "stream",
     "text": [
      "Average number of restaurants in every area with radius=300m: 4.91208791209\n"
     ]
    },
    {
     "data": {
      "text/html": [
       "<div>\n",
       "<style scoped>\n",
       "    .dataframe tbody tr th:only-of-type {\n",
       "        vertical-align: middle;\n",
       "    }\n",
       "\n",
       "    .dataframe tbody tr th {\n",
       "        vertical-align: top;\n",
       "    }\n",
       "\n",
       "    .dataframe thead th {\n",
       "        text-align: right;\n",
       "    }\n",
       "</style>\n",
       "<table border=\"1\" class=\"dataframe\">\n",
       "  <thead>\n",
       "    <tr style=\"text-align: right;\">\n",
       "      <th></th>\n",
       "      <th>Address</th>\n",
       "      <th>Distance from center</th>\n",
       "      <th>Latitude</th>\n",
       "      <th>Longitude</th>\n",
       "      <th>X</th>\n",
       "      <th>Y</th>\n",
       "      <th>Restaurants in area</th>\n",
       "    </tr>\n",
       "  </thead>\n",
       "  <tbody>\n",
       "    <tr>\n",
       "      <th>0</th>\n",
       "      <td>Bundesautobahn 100 &amp; Tempelhofer Damm, 12099 B...</td>\n",
       "      <td>5992.495307</td>\n",
       "      <td>52.470194</td>\n",
       "      <td>13.388575</td>\n",
       "      <td>390541.280176</td>\n",
       "      <td>5.814557e+06</td>\n",
       "      <td>4</td>\n",
       "    </tr>\n",
       "    <tr>\n",
       "      <th>1</th>\n",
       "      <td>09R/27L, 12101 Berlin</td>\n",
       "      <td>5840.376700</td>\n",
       "      <td>52.470314</td>\n",
       "      <td>13.397404</td>\n",
       "      <td>391141.280176</td>\n",
       "      <td>5.814557e+06</td>\n",
       "      <td>0</td>\n",
       "    </tr>\n",
       "    <tr>\n",
       "      <th>2</th>\n",
       "      <td>09R/27L, 12049 Berlin</td>\n",
       "      <td>5747.173218</td>\n",
       "      <td>52.470434</td>\n",
       "      <td>13.406234</td>\n",
       "      <td>391741.280176</td>\n",
       "      <td>5.814557e+06</td>\n",
       "      <td>0</td>\n",
       "    </tr>\n",
       "    <tr>\n",
       "      <th>3</th>\n",
       "      <td>09R/27L, 12049 Berlin</td>\n",
       "      <td>5715.767665</td>\n",
       "      <td>52.470552</td>\n",
       "      <td>13.415063</td>\n",
       "      <td>392341.280176</td>\n",
       "      <td>5.814557e+06</td>\n",
       "      <td>0</td>\n",
       "    </tr>\n",
       "    <tr>\n",
       "      <th>4</th>\n",
       "      <td>Warthestraße 23, 12051 Berlin</td>\n",
       "      <td>5747.173218</td>\n",
       "      <td>52.470670</td>\n",
       "      <td>13.423893</td>\n",
       "      <td>392941.280176</td>\n",
       "      <td>5.814557e+06</td>\n",
       "      <td>1</td>\n",
       "    </tr>\n",
       "    <tr>\n",
       "      <th>5</th>\n",
       "      <td>Schierker Str. 19-20, 12051 Berlin</td>\n",
       "      <td>5840.376700</td>\n",
       "      <td>52.470788</td>\n",
       "      <td>13.432722</td>\n",
       "      <td>393541.280176</td>\n",
       "      <td>5.814557e+06</td>\n",
       "      <td>6</td>\n",
       "    </tr>\n",
       "    <tr>\n",
       "      <th>6</th>\n",
       "      <td>Karl-Marx-Straße 213, 12055 Berlin</td>\n",
       "      <td>5992.495307</td>\n",
       "      <td>52.470904</td>\n",
       "      <td>13.441552</td>\n",
       "      <td>394141.280176</td>\n",
       "      <td>5.814557e+06</td>\n",
       "      <td>5</td>\n",
       "    </tr>\n",
       "    <tr>\n",
       "      <th>7</th>\n",
       "      <td>Hessenring 34, 12101 Berlin</td>\n",
       "      <td>5855.766389</td>\n",
       "      <td>52.474683</td>\n",
       "      <td>13.375159</td>\n",
       "      <td>389641.280176</td>\n",
       "      <td>5.815077e+06</td>\n",
       "      <td>0</td>\n",
       "    </tr>\n",
       "    <tr>\n",
       "      <th>8</th>\n",
       "      <td>Thuyring 6, 12101 Berlin</td>\n",
       "      <td>5604.462508</td>\n",
       "      <td>52.474804</td>\n",
       "      <td>13.383989</td>\n",
       "      <td>390241.280176</td>\n",
       "      <td>5.815077e+06</td>\n",
       "      <td>0</td>\n",
       "    </tr>\n",
       "    <tr>\n",
       "      <th>9</th>\n",
       "      <td>09L/27R, 12101 Berlin</td>\n",
       "      <td>5408.326913</td>\n",
       "      <td>52.474924</td>\n",
       "      <td>13.392820</td>\n",
       "      <td>390841.280176</td>\n",
       "      <td>5.815077e+06</td>\n",
       "      <td>0</td>\n",
       "    </tr>\n",
       "  </tbody>\n",
       "</table>\n",
       "</div>"
      ],
      "text/plain": [
       "                                             Address  Distance from center  \\\n",
       "0  Bundesautobahn 100 & Tempelhofer Damm, 12099 B...           5992.495307   \n",
       "1                              09R/27L, 12101 Berlin           5840.376700   \n",
       "2                              09R/27L, 12049 Berlin           5747.173218   \n",
       "3                              09R/27L, 12049 Berlin           5715.767665   \n",
       "4                      Warthestraße 23, 12051 Berlin           5747.173218   \n",
       "5                 Schierker Str. 19-20, 12051 Berlin           5840.376700   \n",
       "6                 Karl-Marx-Straße 213, 12055 Berlin           5992.495307   \n",
       "7                        Hessenring 34, 12101 Berlin           5855.766389   \n",
       "8                           Thuyring 6, 12101 Berlin           5604.462508   \n",
       "9                              09L/27R, 12101 Berlin           5408.326913   \n",
       "\n",
       "    Latitude  Longitude              X             Y  Restaurants in area  \n",
       "0  52.470194  13.388575  390541.280176  5.814557e+06                    4  \n",
       "1  52.470314  13.397404  391141.280176  5.814557e+06                    0  \n",
       "2  52.470434  13.406234  391741.280176  5.814557e+06                    0  \n",
       "3  52.470552  13.415063  392341.280176  5.814557e+06                    0  \n",
       "4  52.470670  13.423893  392941.280176  5.814557e+06                    1  \n",
       "5  52.470788  13.432722  393541.280176  5.814557e+06                    6  \n",
       "6  52.470904  13.441552  394141.280176  5.814557e+06                    5  \n",
       "7  52.474683  13.375159  389641.280176  5.815077e+06                    0  \n",
       "8  52.474804  13.383989  390241.280176  5.815077e+06                    0  \n",
       "9  52.474924  13.392820  390841.280176  5.815077e+06                    0  "
      ]
     },
     "execution_count": 31,
     "metadata": {},
     "output_type": "execute_result"
    }
   ],
   "source": [
    "location_restaurants_count = [len(res) for res in location_restaurants]\n",
    "\n",
    "df_locations['Restaurants in area'] = location_restaurants_count\n",
    "\n",
    "print('Average number of restaurants in every area with radius=300m:', np.array(location_restaurants_count).mean())\n",
    "\n",
    "df_locations.head(10)"
   ]
  },
  {
   "cell_type": "markdown",
   "metadata": {},
   "source": [
    "OK, now let's calculate the **distance to nearest Italian restaurant from every area candidate center** (not only those within 300m - we want distance to closest one, regardless of how distant it is)."
   ]
  },
  {
   "cell_type": "code",
   "execution_count": 32,
   "metadata": {
    "collapsed": true
   },
   "outputs": [],
   "source": [
    "distances_to_italian_restaurant = []\n",
    "\n",
    "for area_x, area_y in zip(xs, ys):\n",
    "    min_distance = 10000\n",
    "    for res in italian_restaurants.values():\n",
    "        res_x = res[7]\n",
    "        res_y = res[8]\n",
    "        d = calc_xy_distance(area_x, area_y, res_x, res_y)\n",
    "        if d<min_distance:\n",
    "            min_distance = d\n",
    "    distances_to_italian_restaurant.append(min_distance)\n",
    "\n",
    "df_locations['Distance to Italian restaurant'] = distances_to_italian_restaurant"
   ]
  },
  {
   "cell_type": "code",
   "execution_count": 33,
   "metadata": {},
   "outputs": [
    {
     "data": {
      "text/html": [
       "<div>\n",
       "<style scoped>\n",
       "    .dataframe tbody tr th:only-of-type {\n",
       "        vertical-align: middle;\n",
       "    }\n",
       "\n",
       "    .dataframe tbody tr th {\n",
       "        vertical-align: top;\n",
       "    }\n",
       "\n",
       "    .dataframe thead th {\n",
       "        text-align: right;\n",
       "    }\n",
       "</style>\n",
       "<table border=\"1\" class=\"dataframe\">\n",
       "  <thead>\n",
       "    <tr style=\"text-align: right;\">\n",
       "      <th></th>\n",
       "      <th>Address</th>\n",
       "      <th>Distance from center</th>\n",
       "      <th>Latitude</th>\n",
       "      <th>Longitude</th>\n",
       "      <th>X</th>\n",
       "      <th>Y</th>\n",
       "      <th>Restaurants in area</th>\n",
       "      <th>Distance to Italian restaurant</th>\n",
       "    </tr>\n",
       "  </thead>\n",
       "  <tbody>\n",
       "    <tr>\n",
       "      <th>0</th>\n",
       "      <td>Bundesautobahn 100 &amp; Tempelhofer Damm, 12099 B...</td>\n",
       "      <td>5992.495307</td>\n",
       "      <td>52.470194</td>\n",
       "      <td>13.388575</td>\n",
       "      <td>390541.280176</td>\n",
       "      <td>5.814557e+06</td>\n",
       "      <td>4</td>\n",
       "      <td>264.408532</td>\n",
       "    </tr>\n",
       "    <tr>\n",
       "      <th>1</th>\n",
       "      <td>09R/27L, 12101 Berlin</td>\n",
       "      <td>5840.376700</td>\n",
       "      <td>52.470314</td>\n",
       "      <td>13.397404</td>\n",
       "      <td>391141.280176</td>\n",
       "      <td>5.814557e+06</td>\n",
       "      <td>0</td>\n",
       "      <td>830.999331</td>\n",
       "    </tr>\n",
       "    <tr>\n",
       "      <th>2</th>\n",
       "      <td>09R/27L, 12049 Berlin</td>\n",
       "      <td>5747.173218</td>\n",
       "      <td>52.470434</td>\n",
       "      <td>13.406234</td>\n",
       "      <td>391741.280176</td>\n",
       "      <td>5.814557e+06</td>\n",
       "      <td>0</td>\n",
       "      <td>1269.038823</td>\n",
       "    </tr>\n",
       "    <tr>\n",
       "      <th>3</th>\n",
       "      <td>09R/27L, 12049 Berlin</td>\n",
       "      <td>5715.767665</td>\n",
       "      <td>52.470552</td>\n",
       "      <td>13.415063</td>\n",
       "      <td>392341.280176</td>\n",
       "      <td>5.814557e+06</td>\n",
       "      <td>0</td>\n",
       "      <td>829.067436</td>\n",
       "    </tr>\n",
       "    <tr>\n",
       "      <th>4</th>\n",
       "      <td>Warthestraße 23, 12051 Berlin</td>\n",
       "      <td>5747.173218</td>\n",
       "      <td>52.470670</td>\n",
       "      <td>13.423893</td>\n",
       "      <td>392941.280176</td>\n",
       "      <td>5.814557e+06</td>\n",
       "      <td>1</td>\n",
       "      <td>575.681166</td>\n",
       "    </tr>\n",
       "    <tr>\n",
       "      <th>5</th>\n",
       "      <td>Schierker Str. 19-20, 12051 Berlin</td>\n",
       "      <td>5840.376700</td>\n",
       "      <td>52.470788</td>\n",
       "      <td>13.432722</td>\n",
       "      <td>393541.280176</td>\n",
       "      <td>5.814557e+06</td>\n",
       "      <td>6</td>\n",
       "      <td>293.966217</td>\n",
       "    </tr>\n",
       "    <tr>\n",
       "      <th>6</th>\n",
       "      <td>Karl-Marx-Straße 213, 12055 Berlin</td>\n",
       "      <td>5992.495307</td>\n",
       "      <td>52.470904</td>\n",
       "      <td>13.441552</td>\n",
       "      <td>394141.280176</td>\n",
       "      <td>5.814557e+06</td>\n",
       "      <td>5</td>\n",
       "      <td>317.390305</td>\n",
       "    </tr>\n",
       "    <tr>\n",
       "      <th>7</th>\n",
       "      <td>Hessenring 34, 12101 Berlin</td>\n",
       "      <td>5855.766389</td>\n",
       "      <td>52.474683</td>\n",
       "      <td>13.375159</td>\n",
       "      <td>389641.280176</td>\n",
       "      <td>5.815077e+06</td>\n",
       "      <td>0</td>\n",
       "      <td>776.047531</td>\n",
       "    </tr>\n",
       "    <tr>\n",
       "      <th>8</th>\n",
       "      <td>Thuyring 6, 12101 Berlin</td>\n",
       "      <td>5604.462508</td>\n",
       "      <td>52.474804</td>\n",
       "      <td>13.383989</td>\n",
       "      <td>390241.280176</td>\n",
       "      <td>5.815077e+06</td>\n",
       "      <td>0</td>\n",
       "      <td>378.018237</td>\n",
       "    </tr>\n",
       "    <tr>\n",
       "      <th>9</th>\n",
       "      <td>09L/27R, 12101 Berlin</td>\n",
       "      <td>5408.326913</td>\n",
       "      <td>52.474924</td>\n",
       "      <td>13.392820</td>\n",
       "      <td>390841.280176</td>\n",
       "      <td>5.815077e+06</td>\n",
       "      <td>0</td>\n",
       "      <td>635.252552</td>\n",
       "    </tr>\n",
       "  </tbody>\n",
       "</table>\n",
       "</div>"
      ],
      "text/plain": [
       "                                             Address  Distance from center  \\\n",
       "0  Bundesautobahn 100 & Tempelhofer Damm, 12099 B...           5992.495307   \n",
       "1                              09R/27L, 12101 Berlin           5840.376700   \n",
       "2                              09R/27L, 12049 Berlin           5747.173218   \n",
       "3                              09R/27L, 12049 Berlin           5715.767665   \n",
       "4                      Warthestraße 23, 12051 Berlin           5747.173218   \n",
       "5                 Schierker Str. 19-20, 12051 Berlin           5840.376700   \n",
       "6                 Karl-Marx-Straße 213, 12055 Berlin           5992.495307   \n",
       "7                        Hessenring 34, 12101 Berlin           5855.766389   \n",
       "8                           Thuyring 6, 12101 Berlin           5604.462508   \n",
       "9                              09L/27R, 12101 Berlin           5408.326913   \n",
       "\n",
       "    Latitude  Longitude              X             Y  Restaurants in area  \\\n",
       "0  52.470194  13.388575  390541.280176  5.814557e+06                    4   \n",
       "1  52.470314  13.397404  391141.280176  5.814557e+06                    0   \n",
       "2  52.470434  13.406234  391741.280176  5.814557e+06                    0   \n",
       "3  52.470552  13.415063  392341.280176  5.814557e+06                    0   \n",
       "4  52.470670  13.423893  392941.280176  5.814557e+06                    1   \n",
       "5  52.470788  13.432722  393541.280176  5.814557e+06                    6   \n",
       "6  52.470904  13.441552  394141.280176  5.814557e+06                    5   \n",
       "7  52.474683  13.375159  389641.280176  5.815077e+06                    0   \n",
       "8  52.474804  13.383989  390241.280176  5.815077e+06                    0   \n",
       "9  52.474924  13.392820  390841.280176  5.815077e+06                    0   \n",
       "\n",
       "   Distance to Italian restaurant  \n",
       "0                      264.408532  \n",
       "1                      830.999331  \n",
       "2                     1269.038823  \n",
       "3                      829.067436  \n",
       "4                      575.681166  \n",
       "5                      293.966217  \n",
       "6                      317.390305  \n",
       "7                      776.047531  \n",
       "8                      378.018237  \n",
       "9                      635.252552  "
      ]
     },
     "execution_count": 33,
     "metadata": {},
     "output_type": "execute_result"
    }
   ],
   "source": [
    "df_locations.head(10)"
   ]
  },
  {
   "cell_type": "code",
   "execution_count": 35,
   "metadata": {},
   "outputs": [
    {
     "name": "stdout",
     "output_type": "stream",
     "text": [
      "Average distance to closest Italian restaurant from each area center: 495.2099580523902\n"
     ]
    }
   ],
   "source": [
    "print('Average distance to closest Italian restaurant from each area center:', df_locations['Distance to Italian restaurant'].mean())"
   ]
  },
  {
   "cell_type": "markdown",
   "metadata": {},
   "source": [
    "OK, so **on average Italian restaurant can be found within ~500m** from every area center candidate. That's fairly close, so we need to filter our areas carefully!"
   ]
  },
  {
   "cell_type": "markdown",
   "metadata": {},
   "source": [
    "Let's crete a map showing **heatmap / density of restaurants** and try to extract some meaningfull info from that. Also, let's show **borders of Berlin boroughs** on our map and a few circles indicating distance of 1km, 2km and 3km from Alexanderplatz."
   ]
  },
  {
   "cell_type": "code",
   "execution_count": 36,
   "metadata": {
    "collapsed": true
   },
   "outputs": [],
   "source": [
    "berlin_boroughs_url = 'https://raw.githubusercontent.com/m-hoerz/berlin-shapes/master/berliner-bezirke.geojson'\n",
    "berlin_boroughs = requests.get(berlin_boroughs_url).json()\n",
    "\n",
    "def boroughs_style(feature):\n",
    "    return { 'color': 'blue', 'fill': False }"
   ]
  },
  {
   "cell_type": "code",
   "execution_count": 37,
   "metadata": {
    "collapsed": true
   },
   "outputs": [],
   "source": [
    "restaurant_latlons = [[res[2], res[3]] for res in restaurants.values()]\n",
    "\n",
    "italian_latlons = [[res[2], res[3]] for res in italian_restaurants.values()]"
   ]
  },
  {
   "cell_type": "markdown",
   "metadata": {},
   "source": [
    "Looks like a few pockets of low restaurant density closest to city center can be found **south, south-east and east from Alexanderplatz**. \n",
    "\n",
    "Let's create another heatmap map showing **heatmap/density of Italian restaurants** only."
   ]
  },
  {
   "cell_type": "markdown",
   "metadata": {},
   "source": [
    "This map is not so 'hot' (Italian restaurants represent a subset of ~15% of all restaurants in Berlin) but it also indicates higher density of existing Italian restaurants directly north and west from Alexanderplatz, with closest pockets of **low Italian restaurant density positioned east, south-east and south from city center**.\n",
    "\n",
    "Based on this we will now focus our analysis on areas *south-west, south, south-east and east from Berlin center* - we will move the center of our area of interest and reduce it's size to have a radius of **2.5km**. This places our location candidates mostly in boroughs **Kreuzberg and Friedrichshain** (another potentially interesting borough is **Prenzlauer Berg** with large low restaurant density north-east from city center, however this borough is less interesting to stakeholders as it's mostly residental and less popular with tourists)."
   ]
  },
  {
   "cell_type": "code",
   "execution_count": 41,
   "metadata": {},
   "outputs": [
    {
     "name": "stdout",
     "output_type": "stream",
     "text": [
      "2261 candidate neighborhood centers generated.\n"
     ]
    }
   ],
   "source": [
    "k = math.sqrt(3) / 2 # Vertical offset for hexagonal grid cells\n",
    "x_step = 100\n",
    "y_step = 100 * k \n",
    "roi_y_min = roi_center_y - 2500\n",
    "\n",
    "roi_latitudes = []\n",
    "roi_longitudes = []\n",
    "roi_xs = []\n",
    "roi_ys = []\n",
    "for i in range(0, int(51/k)):\n",
    "    y = roi_y_min + i * y_step\n",
    "    x_offset = 50 if i%2==0 else 0\n",
    "    for j in range(0, 51):\n",
    "        x = roi_x_min + j * x_step + x_offset\n",
    "        d = calc_xy_distance(roi_center_x, roi_center_y, x, y)\n",
    "        if (d <= 2501):\n",
    "            lon, lat = xy_to_lonlat(x, y)\n",
    "            roi_latitudes.append(lat)\n",
    "            roi_longitudes.append(lon)\n",
    "            roi_xs.append(x)\n",
    "            roi_ys.append(y)\n",
    "\n",
    "print(len(roi_latitudes), 'candidate neighborhood centers generated.')"
   ]
  },
  {
   "cell_type": "markdown",
   "metadata": {},
   "source": [
    "OK. Now let's calculate two most important things for each location candidate: **number of restaurants in vicinity** (we'll use radius of **250 meters**) and **distance to closest Italian restaurant**."
   ]
  },
  {
   "cell_type": "code",
   "execution_count": 94,
   "metadata": {},
   "outputs": [
    {
     "name": "stdout",
     "output_type": "stream",
     "text": [
      "Generating data on location candidates... done.\n"
     ]
    }
   ],
   "source": [
    "def count_restaurants_nearby(x, y, restaurants, radius=250):    \n",
    "    count = 0\n",
    "    for res in restaurants.values():\n",
    "        res_x = res[7]; res_y = res[8]\n",
    "        d = calc_xy_distance(x, y, res_x, res_y)\n",
    "        if d<=radius:\n",
    "            count += 1\n",
    "    return count\n",
    "\n",
    "def find_nearest_restaurant(x, y, restaurants):\n",
    "    d_min = 100000\n",
    "    for res in restaurants.values():\n",
    "        res_x = res[7]; res_y = res[8]\n",
    "        d = calc_xy_distance(x, y, res_x, res_y)\n",
    "        if d<=d_min:\n",
    "            d_min = d\n",
    "    return d_min\n",
    "\n",
    "roi_restaurant_counts = []\n",
    "roi_italian_distances = []\n",
    "\n",
    "print('Generating data on location candidates... ', end='')\n",
    "for x, y in zip(roi_xs, roi_ys):\n",
    "    count = count_restaurants_nearby(x, y, restaurants, radius=250)\n",
    "    roi_restaurant_counts.append(count)\n",
    "    distance = find_nearest_restaurant(x, y, italian_restaurants)\n",
    "    roi_italian_distances.append(distance)\n",
    "print('done.')\n"
   ]
  },
  {
   "cell_type": "code",
   "execution_count": 95,
   "metadata": {},
   "outputs": [
    {
     "data": {
      "text/html": [
       "<div>\n",
       "<style scoped>\n",
       "    .dataframe tbody tr th:only-of-type {\n",
       "        vertical-align: middle;\n",
       "    }\n",
       "\n",
       "    .dataframe tbody tr th {\n",
       "        vertical-align: top;\n",
       "    }\n",
       "\n",
       "    .dataframe thead th {\n",
       "        text-align: right;\n",
       "    }\n",
       "</style>\n",
       "<table border=\"1\" class=\"dataframe\">\n",
       "  <thead>\n",
       "    <tr style=\"text-align: right;\">\n",
       "      <th></th>\n",
       "      <th>Distance to Italian restaurant</th>\n",
       "      <th>Latitude</th>\n",
       "      <th>Longitude</th>\n",
       "      <th>Restaurants nearby</th>\n",
       "      <th>X</th>\n",
       "      <th>Y</th>\n",
       "    </tr>\n",
       "  </thead>\n",
       "  <tbody>\n",
       "    <tr>\n",
       "      <th>0</th>\n",
       "      <td>158.565914</td>\n",
       "      <td>52.486060</td>\n",
       "      <td>13.421133</td>\n",
       "      <td>8</td>\n",
       "      <td>392791.280176</td>\n",
       "      <td>5.816273e+06</td>\n",
       "    </tr>\n",
       "    <tr>\n",
       "      <th>1</th>\n",
       "      <td>180.522171</td>\n",
       "      <td>52.486080</td>\n",
       "      <td>13.422605</td>\n",
       "      <td>9</td>\n",
       "      <td>392891.280176</td>\n",
       "      <td>5.816273e+06</td>\n",
       "    </tr>\n",
       "    <tr>\n",
       "      <th>2</th>\n",
       "      <td>516.071190</td>\n",
       "      <td>52.486730</td>\n",
       "      <td>13.413009</td>\n",
       "      <td>0</td>\n",
       "      <td>392241.280176</td>\n",
       "      <td>5.816360e+06</td>\n",
       "    </tr>\n",
       "    <tr>\n",
       "      <th>3</th>\n",
       "      <td>468.257436</td>\n",
       "      <td>52.486750</td>\n",
       "      <td>13.414481</td>\n",
       "      <td>0</td>\n",
       "      <td>392341.280176</td>\n",
       "      <td>5.816360e+06</td>\n",
       "    </tr>\n",
       "    <tr>\n",
       "      <th>4</th>\n",
       "      <td>369.743331</td>\n",
       "      <td>52.486769</td>\n",
       "      <td>13.415953</td>\n",
       "      <td>0</td>\n",
       "      <td>392441.280176</td>\n",
       "      <td>5.816360e+06</td>\n",
       "    </tr>\n",
       "    <tr>\n",
       "      <th>5</th>\n",
       "      <td>272.314591</td>\n",
       "      <td>52.486789</td>\n",
       "      <td>13.417425</td>\n",
       "      <td>3</td>\n",
       "      <td>392541.280176</td>\n",
       "      <td>5.816360e+06</td>\n",
       "    </tr>\n",
       "    <tr>\n",
       "      <th>6</th>\n",
       "      <td>177.764848</td>\n",
       "      <td>52.486809</td>\n",
       "      <td>13.418897</td>\n",
       "      <td>6</td>\n",
       "      <td>392641.280176</td>\n",
       "      <td>5.816360e+06</td>\n",
       "    </tr>\n",
       "    <tr>\n",
       "      <th>7</th>\n",
       "      <td>95.107551</td>\n",
       "      <td>52.486829</td>\n",
       "      <td>13.420369</td>\n",
       "      <td>8</td>\n",
       "      <td>392741.280176</td>\n",
       "      <td>5.816360e+06</td>\n",
       "    </tr>\n",
       "    <tr>\n",
       "      <th>8</th>\n",
       "      <td>80.563958</td>\n",
       "      <td>52.486848</td>\n",
       "      <td>13.421841</td>\n",
       "      <td>9</td>\n",
       "      <td>392841.280176</td>\n",
       "      <td>5.816360e+06</td>\n",
       "    </tr>\n",
       "    <tr>\n",
       "      <th>9</th>\n",
       "      <td>154.711526</td>\n",
       "      <td>52.486868</td>\n",
       "      <td>13.423314</td>\n",
       "      <td>12</td>\n",
       "      <td>392941.280176</td>\n",
       "      <td>5.816360e+06</td>\n",
       "    </tr>\n",
       "  </tbody>\n",
       "</table>\n",
       "</div>"
      ],
      "text/plain": [
       "   Distance to Italian restaurant   Latitude  Longitude  Restaurants nearby  \\\n",
       "0                      158.565914  52.486060  13.421133                   8   \n",
       "1                      180.522171  52.486080  13.422605                   9   \n",
       "2                      516.071190  52.486730  13.413009                   0   \n",
       "3                      468.257436  52.486750  13.414481                   0   \n",
       "4                      369.743331  52.486769  13.415953                   0   \n",
       "5                      272.314591  52.486789  13.417425                   3   \n",
       "6                      177.764848  52.486809  13.418897                   6   \n",
       "7                       95.107551  52.486829  13.420369                   8   \n",
       "8                       80.563958  52.486848  13.421841                   9   \n",
       "9                      154.711526  52.486868  13.423314                  12   \n",
       "\n",
       "               X             Y  \n",
       "0  392791.280176  5.816273e+06  \n",
       "1  392891.280176  5.816273e+06  \n",
       "2  392241.280176  5.816360e+06  \n",
       "3  392341.280176  5.816360e+06  \n",
       "4  392441.280176  5.816360e+06  \n",
       "5  392541.280176  5.816360e+06  \n",
       "6  392641.280176  5.816360e+06  \n",
       "7  392741.280176  5.816360e+06  \n",
       "8  392841.280176  5.816360e+06  \n",
       "9  392941.280176  5.816360e+06  "
      ]
     },
     "execution_count": 95,
     "metadata": {},
     "output_type": "execute_result"
    }
   ],
   "source": [
    "# Let's put this into dataframe\n",
    "df_roi_locations = pd.DataFrame({'Latitude':roi_latitudes,\n",
    "                                 'Longitude':roi_longitudes,\n",
    "                                 'X':roi_xs,\n",
    "                                 'Y':roi_ys,\n",
    "                                 'Restaurants nearby':roi_restaurant_counts,\n",
    "                                 'Distance to Italian restaurant':roi_italian_distances})\n",
    "\n",
    "df_roi_locations.head(10)"
   ]
  },
  {
   "cell_type": "markdown",
   "metadata": {},
   "source": [
    "OK. Let us now **filter** those locations: we're interested only in **locations with no more than two restaurants in radius of 250 meters**, and **no Italian restaurants in radius of 400 meters**."
   ]
  },
  {
   "cell_type": "code",
   "execution_count": 98,
   "metadata": {},
   "outputs": [
    {
     "name": "stdout",
     "output_type": "stream",
     "text": [
      "Locations with no more than two restaurants nearby: 798\n",
      "Locations with no Italian restaurants within 400m: 380\n",
      "Locations with both conditions met: 319\n"
     ]
    }
   ],
   "source": [
    "good_res_count = np.array((df_roi_locations['Restaurants nearby']<=2))\n",
    "print('Locations with no more than two restaurants nearby:', good_res_count.sum())\n",
    "\n",
    "good_ita_distance = np.array(df_roi_locations['Distance to Italian restaurant']>=400)\n",
    "print('Locations with no Italian restaurants within 400m:', good_ita_distance.sum())\n",
    "\n",
    "good_locations = np.logical_and(good_res_count, good_ita_distance)\n",
    "print('Locations with both conditions met:', good_locations.sum())\n",
    "\n",
    "df_good_locations = df_roi_locations[good_locations]\n"
   ]
  },
  {
   "cell_type": "code",
   "execution_count": 86,
   "metadata": {},
   "outputs": [
    {
     "name": "stdout",
     "output_type": "stream",
     "text": [
      "==============================================================\n",
      "Addresses of centers of areas recommended for further analysis\n",
      "==============================================================\n",
      "\n",
      "Michaelkirchpl. 15, 10179 Berlin                   => 1.7km from Alexanderplatz\n",
      "Lohmühlenstraße 1, 12435 Berlin                    => 3.7km from Alexanderplatz\n",
      "Berolinastraße 12, 10178 Berlin                    => 0.5km from Alexanderplatz\n",
      "Neuenburger Str. 15, 10969 Berlin                  => 2.7km from Alexanderplatz\n",
      "Landsberger Allee 37, 10249 Berlin                 => 2.0km from Alexanderplatz\n",
      "Bona-Peiser-Weg 4, 10179 Berlin                    => 1.7km from Alexanderplatz\n",
      "Gitschiner Str. 33, 10969 Berlin                   => 2.7km from Alexanderplatz\n",
      "Stallschreiberstraße 48, 10969 Berlin              => 1.8km from Alexanderplatz\n",
      "An der Ostbahn 5, 10243 Berlin                     => 2.5km from Alexanderplatz\n",
      "Hasenheide 81, 10967 Berlin                        => 3.9km from Alexanderplatz\n",
      "Ifflandstraße 9, 10179 Berlin                      => 0.9km from Alexanderplatz\n",
      "Reichenberger Str. 92, 10999 Berlin                => 3.8km from Alexanderplatz\n",
      "Platz der Vereinten Nationen 29, 10249 Berlin      => 1.1km from Alexanderplatz\n",
      "Lobeckstraße 62, 10969 Berlin                      => 2.3km from Alexanderplatz\n",
      "Unterwasserstraße 9, 10117 Berlin                  => 1.1km from Alexanderplatz\n"
     ]
    }
   ],
   "source": [
    "candidate_area_addresses = []\n",
    "print('==============================================================')\n",
    "print('Addresses of centers of areas recommended for further analysis')\n",
    "print('==============================================================\\n')\n",
    "for lon, lat in cluster_centers:\n",
    "    addr = get_address(google_api_key, lat, lon).replace(', Germany', '')\n",
    "    candidate_area_addresses.append(addr)    \n",
    "    x, y = lonlat_to_xy(lon, lat)\n",
    "    d = calc_xy_distance(x, y, berlin_center_x, berlin_center_y)\n",
    "    print('{}{} => {:.1f}km from Alexanderplatz'.format(addr, ' '*(50-len(addr)), d/1000))\n",
    "    "
   ]
  },
  {
   "cell_type": "markdown",
   "metadata": {},
   "source": [
    "This concludes our analysis. We have created 15 addresses representing centers of zones containing locations with low number of restaurants and no Italian restaurants nearby, all zones being fairly close to city center (all less than 4km from Alexanderplazt, and about half of those less than 2km from Alexanderplatz). Although zones are shown on map with a radius of ~500 meters (green circles), their shape is actually very irregular and their centers/addresses should be considered only as a starting point for exploring area neighborhoods in search for potential restaurant locations. Most of the zones are located in Kreuzberg and Friedrichshain boroughs, which we have identified as interesting due to being popular with tourists, fairly close to city center and well connected by public transport."
   ]
  },
  {
   "cell_type": "markdown",
   "metadata": {},
   "source": [
    "## Results and Discussion <a name=\"results\"></a>"
   ]
  },
  {
   "cell_type": "markdown",
   "metadata": {},
   "source": [
    "Our analysis shows that although there is a great number of restaurants in Berlin (~2000 in our initial area of interest which was 12x12km around Alexanderplatz), there are pockets of low restaurant density fairly close to city center. Highest concentration of restaurants was detected north and west from Alexanderplatz, so we focused our attention to areas south, south-east and east, corresponding to boroughs Kreuzberg, Friedrichshain and south-east corner of central Mitte borough. Another borough was identified as potentially interesting (Prenzlauer Berg, north-east from Alexanderplatz), but our attention was focused on Kreuzberg and Friedrichshain which offer a combination of popularity among tourists, closeness to city center, strong socio-economic dynamics *and* a number of pockets of low restaurant density."
   ]
  },
  {
   "cell_type": "markdown",
   "metadata": {},
   "source": [
    "## Conclusion <a name=\"conclusion\"></a>"
   ]
  },
  {
   "cell_type": "markdown",
   "metadata": {},
   "source": [
    "Purpose of this project was to identify Berlin areas close to center with low number of restaurants (particularly Italian restaurants) in order to aid stakeholders in narrowing down the search for optimal location for a new Italian restaurant. generated extensive collection of locations which satisfy some basic requirements regarding existing nearby restaurants. Clustering of those locations was then performed in order to create major zones of interest (containing greatest number of potential locations) and addresses of those zone centers were created to be used as starting points for final exploration by XYZ Company."
   ]
  },
  {
   "cell_type": "code",
   "execution_count": null,
   "metadata": {
    "collapsed": true
   },
   "outputs": [],
   "source": []
  }
 ],
 "metadata": {
  "kernelspec": {
   "display_name": "Python 3",
   "language": "python",
   "name": "python3"
  },
  "language_info": {
   "codemirror_mode": {
    "name": "ipython",
    "version": 3
   },
   "file_extension": ".py",
   "mimetype": "text/x-python",
   "name": "python",
   "nbconvert_exporter": "python",
   "pygments_lexer": "ipython3",
   "version": "3.6.1"
  }
 },
 "nbformat": 4,
 "nbformat_minor": 1
}
